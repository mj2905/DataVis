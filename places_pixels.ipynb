{
 "cells": [
  {
   "cell_type": "code",
   "execution_count": 2,
   "metadata": {},
   "outputs": [],
   "source": [
    "import numpy as np\n",
    "from skimage.draw import polygon\n",
    "import json\n",
    "from collections import OrderedDict\n",
    "from copy import deepcopy\n",
    "import matplotlib.pyplot as plt\n",
    "import pickle as pkl"
   ]
  },
  {
   "cell_type": "markdown",
   "metadata": {},
   "source": [
    "## Build pixels coordinates from masks"
   ]
  },
  {
   "cell_type": "code",
   "execution_count": 4,
   "metadata": {},
   "outputs": [],
   "source": [
    "with open(\"atlas_cleaned.json\", mode=\"r\") as f:\n",
    "    paths = json.load(f)"
   ]
  },
  {
   "cell_type": "code",
   "execution_count": 7,
   "metadata": {},
   "outputs": [],
   "source": [
    "pixels = {}\n",
    "for poly in paths:\n",
    "    if len(poly[\"path\"])>0:\n",
    "        rr, cc = polygon(*zip(*poly[\"path\"]))\n",
    "        pixels[poly[\"id\"]] = set(zip(rr, cc))\n",
    "    else:\n",
    "        pixels[poly[\"id\"]] = set()"
   ]
  },
  {
   "cell_type": "code",
   "execution_count": 8,
   "metadata": {},
   "outputs": [
    {
     "data": {
      "text/plain": [
       "676"
      ]
     },
     "execution_count": 8,
     "metadata": {},
     "output_type": "execute_result"
    }
   ],
   "source": [
    "len(pixels[1]) # Switzerland flag: 26*26 pixels == 676"
   ]
  },
  {
   "cell_type": "code",
   "execution_count": 9,
   "metadata": {},
   "outputs": [],
   "source": [
    "with open(\"place_pixels.pkl\", mode=\"wb\") as f:\n",
    "    pkl.dump(pixels, f)"
   ]
  },
  {
   "cell_type": "code",
   "execution_count": 10,
   "metadata": {},
   "outputs": [],
   "source": [
    "with open(\"place_pixels.pkl\", mode=\"rb\") as f:\n",
    "    pixels = pkl.load(f)"
   ]
  },
  {
   "cell_type": "markdown",
   "metadata": {},
   "source": [
    "## Remove intersections from biggers masks (maybe not a good idea)"
   ]
  },
  {
   "cell_type": "code",
   "execution_count": 89,
   "metadata": {},
   "outputs": [],
   "source": [
    "by_area = {}\n",
    "for idx, pixs in pixels.items():\n",
    "    l = len(pixs)\n",
    "    if l not in by_area:\n",
    "        by_area[l] = set()\n",
    "    by_area[l].add(idx)"
   ]
  },
  {
   "cell_type": "code",
   "execution_count": null,
   "metadata": {
    "scrolled": false
   },
   "outputs": [],
   "source": [
    "true_pixels = {}\n",
    "areas = list(sorted(by_areas.keys()))[1:]\n",
    "for i, area in enumerate(areas):\n",
    "    for cur_idx in by_area[area]:\n",
    "        pixs = deepcopy(pixels[cur_idx])\n",
    "        for j in areas[:i]:\n",
    "            for idx in by_area[j]:\n",
    "                pixs = pixs - pixels[idx]\n",
    "        true_pixels[cur_idx] = pixs"
   ]
  },
  {
   "cell_type": "code",
   "execution_count": 135,
   "metadata": {},
   "outputs": [],
   "source": [
    "with open(\"place_pixels_difference.pkl\", mode=\"wb\") as f:\n",
    "    pkl.dump(true_pixels, f)"
   ]
  },
  {
   "cell_type": "code",
   "execution_count": 12,
   "metadata": {},
   "outputs": [],
   "source": [
    "with open(\"place_pixels_difference.pkl\", mode=\"rb\") as f:\n",
    "    true_pixels = pkl.load(f)"
   ]
  },
  {
   "cell_type": "code",
   "execution_count": 13,
   "metadata": {},
   "outputs": [
    {
     "data": {
      "text/plain": [
       "<matplotlib.image.AxesImage at 0x7fe398346400>"
      ]
     },
     "execution_count": 13,
     "metadata": {},
     "output_type": "execute_result"
    },
    {
     "data": {
      "image/png": "[encoded data removed]",
      "text/plain": [
       "<Figure size 576x576 with 1 Axes>"
      ]
     },
     "metadata": {
      "needs_background": "light"
     },
     "output_type": "display_data"
    }
   ],
   "source": [
    "atlas_id = 130\n",
    "mask = np.ones((1000, 1000))\n",
    "mask[tuple(zip(*pixels[atlas_id]))] = 0.5\n",
    "mask[tuple(zip(*true_pixels[atlas_id]))] = 0\n",
    "plt.figure(figsize=(8,8))\n",
    "plt.imshow(mask.T, cmap=\"gray\")"
   ]
  },
  {
   "cell_type": "markdown",
   "metadata": {},
   "source": [
    "## Get last users ids"
   ]
  },
  {
   "cell_type": "code",
   "execution_count": 128,
   "metadata": {},
   "outputs": [
    {
     "data": {
      "text/plain": [
       "(1493, 1473)"
      ]
     },
     "execution_count": 128,
     "metadata": {},
     "output_type": "execute_result"
    }
   ],
   "source": []
  }
 ],
 "metadata": {
  "kernelspec": {
   "display_name": "Python [conda env:pds]",
   "language": "python",
   "name": "conda-env-pds-py"
  },
  "language_info": {
   "codemirror_mode": {
    "name": "ipython",
    "version": 3
   },
   "file_extension": ".py",
   "mimetype": "text/x-python",
   "name": "python",
   "nbconvert_exporter": "python",
   "pygments_lexer": "ipython3",
   "version": "3.6.6"
  }
 },
 "nbformat": 4,
 "nbformat_minor": 2
}
