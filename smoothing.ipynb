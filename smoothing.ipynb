{
 "cells": [
  {
   "cell_type": "code",
   "execution_count": 1,
   "metadata": {},
   "outputs": [],
   "source": [
    "import numpy as np\n",
    "import torch\n",
    "import torch.nn as nn\n",
    "import torch.nn.functional as F\n",
    "import pandas as pd\n",
    "import math\n",
    "from math import floor\n",
    "import imageio\n",
    "import json"
   ]
  },
  {
   "cell_type": "markdown",
   "metadata": {},
   "source": [
    "## Load place"
   ]
  },
  {
   "cell_type": "code",
   "execution_count": 2,
   "metadata": {},
   "outputs": [
    {
     "name": "stdout",
     "output_type": "stream",
     "text": [
      "['/place', '/users']\n"
     ]
    }
   ],
   "source": [
    "with pd.HDFStore(\"place.hdf\", mode=\"r\") as store:\n",
    "    print(store.keys())\n",
    "    place = store.place\n",
    "    users = store.users"
   ]
  },
  {
   "cell_type": "code",
   "execution_count": 3,
   "metadata": {},
   "outputs": [
    {
     "data": {
      "text/html": [
       "<div>\n",
       "<style scoped>\n",
       "    .dataframe tbody tr th:only-of-type {\n",
       "        vertical-align: middle;\n",
       "    }\n",
       "\n",
       "    .dataframe tbody tr th {\n",
       "        vertical-align: top;\n",
       "    }\n",
       "\n",
       "    .dataframe thead th {\n",
       "        text-align: right;\n",
       "    }\n",
       "</style>\n",
       "<table border=\"1\" class=\"dataframe\">\n",
       "  <thead>\n",
       "    <tr style=\"text-align: right;\">\n",
       "      <th></th>\n",
       "      <th>ts</th>\n",
       "      <th>user_id</th>\n",
       "      <th>x_coordinate</th>\n",
       "      <th>y_coordinate</th>\n",
       "      <th>color</th>\n",
       "    </tr>\n",
       "  </thead>\n",
       "  <tbody>\n",
       "    <tr>\n",
       "      <th>count</th>\n",
       "      <td>1.655990e+07</td>\n",
       "      <td>1.655990e+07</td>\n",
       "      <td>1.655990e+07</td>\n",
       "      <td>1.655990e+07</td>\n",
       "      <td>1.655990e+07</td>\n",
       "    </tr>\n",
       "    <tr>\n",
       "      <th>mean</th>\n",
       "      <td>2.139252e+05</td>\n",
       "      <td>2.314466e+05</td>\n",
       "      <td>4.730365e+02</td>\n",
       "      <td>5.154545e+02</td>\n",
       "      <td>5.733436e+00</td>\n",
       "    </tr>\n",
       "    <tr>\n",
       "      <th>std</th>\n",
       "      <td>6.689361e+04</td>\n",
       "      <td>2.229644e+05</td>\n",
       "      <td>2.882131e+02</td>\n",
       "      <td>2.996301e+02</td>\n",
       "      <td>4.437919e+00</td>\n",
       "    </tr>\n",
       "    <tr>\n",
       "      <th>min</th>\n",
       "      <td>0.000000e+00</td>\n",
       "      <td>0.000000e+00</td>\n",
       "      <td>0.000000e+00</td>\n",
       "      <td>0.000000e+00</td>\n",
       "      <td>0.000000e+00</td>\n",
       "    </tr>\n",
       "    <tr>\n",
       "      <th>25%</th>\n",
       "      <td>1.684950e+05</td>\n",
       "      <td>6.805400e+04</td>\n",
       "      <td>2.290000e+02</td>\n",
       "      <td>2.610000e+02</td>\n",
       "      <td>3.000000e+00</td>\n",
       "    </tr>\n",
       "    <tr>\n",
       "      <th>50%</th>\n",
       "      <td>2.249860e+05</td>\n",
       "      <td>1.619120e+05</td>\n",
       "      <td>4.590000e+02</td>\n",
       "      <td>5.080000e+02</td>\n",
       "      <td>5.000000e+00</td>\n",
       "    </tr>\n",
       "    <tr>\n",
       "      <th>75%</th>\n",
       "      <td>2.657800e+05</td>\n",
       "      <td>3.268200e+05</td>\n",
       "      <td>7.120000e+02</td>\n",
       "      <td>7.870000e+02</td>\n",
       "      <td>9.000000e+00</td>\n",
       "    </tr>\n",
       "    <tr>\n",
       "      <th>max</th>\n",
       "      <td>3.200460e+05</td>\n",
       "      <td>1.166923e+06</td>\n",
       "      <td>1.000000e+03</td>\n",
       "      <td>1.000000e+03</td>\n",
       "      <td>1.500000e+01</td>\n",
       "    </tr>\n",
       "  </tbody>\n",
       "</table>\n",
       "</div>"
      ],
      "text/plain": [
       "                 ts       user_id  x_coordinate  y_coordinate         color\n",
       "count  1.655990e+07  1.655990e+07  1.655990e+07  1.655990e+07  1.655990e+07\n",
       "mean   2.139252e+05  2.314466e+05  4.730365e+02  5.154545e+02  5.733436e+00\n",
       "std    6.689361e+04  2.229644e+05  2.882131e+02  2.996301e+02  4.437919e+00\n",
       "min    0.000000e+00  0.000000e+00  0.000000e+00  0.000000e+00  0.000000e+00\n",
       "25%    1.684950e+05  6.805400e+04  2.290000e+02  2.610000e+02  3.000000e+00\n",
       "50%    2.249860e+05  1.619120e+05  4.590000e+02  5.080000e+02  5.000000e+00\n",
       "75%    2.657800e+05  3.268200e+05  7.120000e+02  7.870000e+02  9.000000e+00\n",
       "max    3.200460e+05  1.166923e+06  1.000000e+03  1.000000e+03  1.500000e+01"
      ]
     },
     "execution_count": 3,
     "metadata": {},
     "output_type": "execute_result"
    }
   ],
   "source": [
    "place.describe()"
   ]
  },
  {
   "cell_type": "code",
   "execution_count": 6,
   "metadata": {},
   "outputs": [],
   "source": [
    "place = place[place.ts>60845]\n",
    "place.ts = place.ts - 60845"
   ]
  },
  {
   "cell_type": "markdown",
   "metadata": {},
   "source": [
    "## Smoothing functions"
   ]
  },
  {
   "cell_type": "code",
   "execution_count": 14,
   "metadata": {},
   "outputs": [],
   "source": [
    "def get_edits(place, _from, _to):\n",
    "    canevas = place[(place.ts>=_from)&(place.ts<_to)]\\\n",
    "        .pivot_table(values=\"ts\", index=\"y_coordinate\", columns=\"x_coordinate\", aggfunc=lambda x: len(x))\n",
    "    canevas = canevas.reindex(index=np.arange(1001), columns=np.arange(1001))\n",
    "    canevas_matrix = canevas.fillna(0).values[:-1, :-1]\n",
    "    return canevas_matrix.astype(np.uint8)"
   ]
  },
  {
   "cell_type": "code",
   "execution_count": 15,
   "metadata": {},
   "outputs": [],
   "source": [
    "def get_gaussian_kernel(kernel_size=3, sigma=2, channels=1):\n",
    "    # Create a x, y coordinate grid of shape (kernel_size, kernel_size, 2)\n",
    "    x_coord = torch.arange(kernel_size)\n",
    "    x_grid = x_coord.repeat(kernel_size).view(kernel_size, kernel_size)\n",
    "    y_grid = x_grid.t()\n",
    "    xy_grid = torch.stack([x_grid, y_grid], dim=-1).float()\n",
    "\n",
    "    mean = (kernel_size - 1)/2.\n",
    "    variance = sigma**2.\n",
    "\n",
    "    # Calculate the 2-dimensional gaussian kernel which is\n",
    "    # the product of two gaussian distributions for two different\n",
    "    # variables (in this case called x and y)\n",
    "    gaussian_kernel = (1./(2.*math.pi*variance)) *\\\n",
    "                      torch.exp(\n",
    "                          -torch.sum((xy_grid - mean)**2., dim=-1) /\\\n",
    "                          (2*variance)\n",
    "                      )\n",
    "\n",
    "    # Make sure sum of values in gaussian kernel equals 1.\n",
    "    gaussian_kernel = gaussian_kernel / torch.sum(gaussian_kernel)\n",
    "\n",
    "    # Reshape to 2d depthwise convolutional weight\n",
    "    gaussian_kernel = gaussian_kernel.view(1, 1, kernel_size, kernel_size)\n",
    "    gaussian_kernel = gaussian_kernel.repeat(channels, 1, 1, 1)\n",
    "\n",
    "    gaussian_filter = nn.Conv2d(in_channels=channels, out_channels=channels,\n",
    "                                kernel_size=kernel_size, groups=channels, bias=False)\n",
    "\n",
    "    gaussian_filter.weight.data = gaussian_kernel\n",
    "    gaussian_filter.weight.requires_grad = False\n",
    "    \n",
    "    return gaussian_filter"
   ]
  },
  {
   "cell_type": "code",
   "execution_count": 16,
   "metadata": {},
   "outputs": [],
   "source": [
    "def create_canevas_tensors(place, w_size=15*60):\n",
    "    tss = []\n",
    "    batch = []\n",
    "    for ts in range(place.ts.min(), place.ts.max()+w_size, w_size):\n",
    "        tss.append(ts)\n",
    "        batch.append(get_edits(place, ts, ts+w_size))\n",
    "    tensor_batch = torch.cat([torch.Tensor(m).unsqueeze(0) for m in batch])\n",
    "    tensor_batch.unsqueeze_(1)\n",
    "    return tss, tensor_batch"
   ]
  },
  {
   "cell_type": "code",
   "execution_count": 17,
   "metadata": {},
   "outputs": [],
   "source": [
    "def smoothing(image_tensor, kernel, sigma, max_pool):\n",
    "    image_tensor = image_tensor.cuda(1)\n",
    "    smoother = nn.Sequential(\n",
    "        nn.ReflectionPad2d(kernel//2),\n",
    "        get_gaussian_kernel(kernel, sigma, 1),\n",
    "        nn.MaxPool2d(max_pool, max_pool)\n",
    "    ).cuda(1)\n",
    "    \n",
    "    smoothed = smoother(image_tensor).cpu().numpy().squeeze(1)\n",
    "    maxs = F.max_pool2d(image_tensor, image_tensor.size()[-2:], image_tensor.size()[-2:]).cpu().numpy().squeeze()\n",
    "    return smoothed, maxs"
   ]
  },
  {
   "cell_type": "markdown",
   "metadata": {},
   "source": [
    "## Apply smoothing globally"
   ]
  },
  {
   "cell_type": "code",
   "execution_count": null,
   "metadata": {},
   "outputs": [],
   "source": [
    "root_path = \"levelmaps/\"\n",
    "w_size = 30*60\n",
    "kernel_size = 3\n",
    "sigma = 1\n",
    "strides = 5\n"
   ]
  },
  {
   "cell_type": "code",
   "execution_count": 19,
   "metadata": {},
   "outputs": [],
   "source": [
    "\n",
    "tss, canevas_tensor = create_canevas_tensors(place, w_size)"
   ]
  },
  {
   "cell_type": "code",
   "execution_count": 20,
   "metadata": {},
   "outputs": [],
   "source": [
    "smoothed, maxs = smoothing(canevas_tensor, 3, 1, 5)"
   ]
  },
  {
   "cell_type": "code",
   "execution_count": 23,
   "metadata": {},
   "outputs": [],
   "source": [
    "for i in range(len(tss)):\n",
    "    imageio.imwrite(f\"levelmaps/global/{i:02}.png\", (255*smoothed[i]/smoothed[i].max()).astype(np.uint8), bits=8)"
   ]
  },
  {
   "cell_type": "code",
   "execution_count": 24,
   "metadata": {},
   "outputs": [],
   "source": [
    "with open(\"levelmaps/global/index.json\", \"w\") as f:\n",
    "    json.dump({tss[i]:{\"idx\":i, \"max\":int(maxs[i])} for i in range(len(tss))}, f)"
   ]
  },
  {
   "cell_type": "markdown",
   "metadata": {},
   "source": [
    "## Apply smoothing on biggest \"communities\""
   ]
  },
  {
   "cell_type": "code",
   "execution_count": null,
   "metadata": {},
   "outputs": [],
   "source": []
  }
 ],
 "metadata": {
  "kernelspec": {
   "display_name": "Python [conda env:pds]",
   "language": "python",
   "name": "conda-env-pds-py"
  },
  "language_info": {
   "codemirror_mode": {
    "name": "ipython",
    "version": 3
   },
   "file_extension": ".py",
   "mimetype": "text/x-python",
   "name": "python",
   "nbconvert_exporter": "python",
   "pygments_lexer": "ipython3",
   "version": "3.6.6"
  }
 },
 "nbformat": 4,
 "nbformat_minor": 2
}
